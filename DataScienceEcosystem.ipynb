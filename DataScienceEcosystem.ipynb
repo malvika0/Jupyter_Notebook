{
 "cells": [
  {
   "cell_type": "markdown",
   "id": "9894c70f-7831-4e43-95ec-12ed41694e54",
   "metadata": {},
   "source": [
    "# Data Science Tools and Ecosystem"
   ]
  },
  {
   "cell_type": "markdown",
   "id": "d25d5902-256c-4f8d-9f0b-acc0bfbfb4ea",
   "metadata": {},
   "source": [
    "## Introduction\n",
    "In this notebook, Data Science Tools and Ecosystem are summarized.\n"
   ]
  },
  {
   "cell_type": "markdown",
   "id": "8ee8b714-edb5-40be-bef6-1016042e8b74",
   "metadata": {},
   "source": [
    "__Objectives:__\n",
    "\n",
    "- In this notebook we will cover some popular languages used by data scientists.\n",
    "- Some libraries commonly used by Data Scientists\n",
    "- Some simple python codes in order to present the exercise"
   ]
  },
  {
   "cell_type": "markdown",
   "id": "4c1f0aed-b294-4119-bed2-12ee5d926da8",
   "metadata": {},
   "source": [
    "__Some of the popular languages that Data Scientists use are:__\n",
    "\n",
    "1. Python\n",
    "2. R\n",
    "3. SQL\n",
    "\n",
    "Some other languages are also popular used:-\n",
    "\n",
    "1. Java.\n",
    "2. Julia.\n",
    "3. Scala.\n",
    "4. C/C++\n",
    "5. JavaScript"
   ]
  },
  {
   "cell_type": "markdown",
   "id": "f03712f4-3d4f-40c9-a741-f0864576aa91",
   "metadata": {},
   "source": [
    "__Some of the commonly used libraries used by Data Scientists include:__\n",
    "\n",
    "1. TensorFlow\n",
    "2. NumPy\n",
    "3. SciPy\n",
    "4. Pandas\n",
    "5. Matplotlib \n",
    "6. PyTorch\n"
   ]
  },
  {
   "cell_type": "markdown",
   "id": "6dec2135-17f5-4c4d-9bf4-852219201d44",
   "metadata": {},
   "source": [
    "|__Data Science Tools__|\n",
    "|----------------------|\n",
    "|Jupyter Notebooks     | \n",
    "|----------------------|\n",
    "|R Studio              | \n",
    "|----------------------|\n",
    "|Apache Spark          |\n",
    "|----------------------|"
   ]
  },
  {
   "cell_type": "markdown",
   "id": "c0bdc4fc-35fd-45ca-a55f-848bf8568b29",
   "metadata": {},
   "source": [
    "### Below are a few examples of evaluating arithmetic expressions in Python"
   ]
  },
  {
   "cell_type": "code",
   "execution_count": 5,
   "id": "38196737-99ba-451a-9fe3-099b3bbebe00",
   "metadata": {},
   "outputs": [
    {
     "name": "stdout",
     "output_type": "stream",
     "text": [
      "17\n"
     ]
    }
   ],
   "source": [
    "#This a simple arithmetic expression to mutiply then add integers\n",
    "\n",
    "eval = (3*4)+5\n",
    "print(eval)"
   ]
  },
  {
   "cell_type": "code",
   "execution_count": 3,
   "id": "1d6f6c03-d2a1-483b-ba35-78e463bfa68b",
   "metadata": {},
   "outputs": [
    {
     "name": "stdout",
     "output_type": "stream",
     "text": [
      "3.3333333333333335\n"
     ]
    }
   ],
   "source": [
    "#This will convert 200 minutes to hours by diving by 60\n",
    "\n",
    "minutes = 200\n",
    "hours = 60\n",
    "print(minutes/hours)\n"
   ]
  },
  {
   "cell_type": "markdown",
   "id": "11f959d0-dddb-43a1-b128-baeea42e2e4d",
   "metadata": {},
   "source": [
    "## Author\n",
    "\n",
    "Malvika Arora"
   ]
  },
  {
   "cell_type": "code",
   "execution_count": null,
   "id": "882723e2-88a2-4f6e-a953-8837648a7ac7",
   "metadata": {},
   "outputs": [],
   "source": []
  }
 ],
 "metadata": {
  "kernelspec": {
   "display_name": "Python",
   "language": "python",
   "name": "conda-env-python-py"
  },
  "language_info": {
   "codemirror_mode": {
    "name": "ipython",
    "version": 3
   },
   "file_extension": ".py",
   "mimetype": "text/x-python",
   "name": "python",
   "nbconvert_exporter": "python",
   "pygments_lexer": "ipython3",
   "version": "3.7.12"
  }
 },
 "nbformat": 4,
 "nbformat_minor": 5
}
